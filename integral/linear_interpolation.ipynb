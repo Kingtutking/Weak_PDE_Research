{
 "cells": [
  {
   "cell_type": "code",
   "execution_count": 3,
   "id": "f9eb42c9",
   "metadata": {},
   "outputs": [],
   "source": [
    "from scipy import integrate\n",
    "import numpy as np"
   ]
  },
  {
   "cell_type": "code",
   "execution_count": 97,
   "id": "7d3037ac",
   "metadata": {},
   "outputs": [],
   "source": [
    "def indicator(x, sub_domain_intervals):\n",
    "    '''\n",
    "    Define the indicator function\n",
    "    indicator function is function which if x value is inside the bound, you will get 1\n",
    "    Otherwise you will get 0\n",
    "    '''\n",
    "    '''\n",
    "    Require\n",
    "    x, left_bound, right_bound must have the same dimension\n",
    "    '''\n",
    "    '''\n",
    "    Parameters\n",
    "    ----------\n",
    "    x : 1 x n vector representing the point to check (Time dimension should be excluded).\n",
    "        It is a point that has dimension equal to the spatial dimension.\n",
    "\n",
    "    sub_intervals : 2d (n x 2) arrays. First dimension is all the spatial dimensions, and second dimension are \n",
    "        the left and right bound of the subdomain. Note that it has the same dim\n",
    "    \n",
    "    return\n",
    "    ------\n",
    "    1 or 0, should be clear enough\n",
    "    \n",
    "    '''\n",
    "    if len(x) != len(sub_domain_intervals[:, 0]):\n",
    "        raise ValueError(\"Parameter dimensions do not agree.\")\n",
    "        \n",
    "    for i in range(len(sub_domain_intervals[:, 0])):\n",
    "        if x[i] < sub_domain_intervals[i, 0] or x[i] > sub_domain_intervals[i, 1]:\n",
    "            return 0\n",
    "    return 1"
   ]
  },
  {
   "cell_type": "code",
   "execution_count": 6,
   "id": "cda6ed2c",
   "metadata": {},
   "outputs": [],
   "source": [
    "def compute_integral(x, t, num_x, j, endpts):\n",
    "    '''\n",
    "    Parameters: \n",
    "    \n",
    "        f: u_j(p)(x, t)\n",
    "        \n",
    "        endpts: 2 x n array \n",
    "            the first column is the left endpoints of the subdomain's each of the n dimensions,\n",
    "            second column is right endpoint of each of the subdomain's each of the n dimensions\n",
    "            \n",
    "    return:\n",
    "    \n",
    "        nd integral\n",
    "    '''\n",
    "#     This integral may need to be performed \n",
    "    return get_u_j(x, num_x, t, j) * \n",
    "    return sp.integral.nquad(get_u_j(x, num_x, t, j), endpts)"
   ]
  },
  {
   "cell_type": "code",
   "execution_count": 6,
   "id": "d6ac7406",
   "metadata": {},
   "outputs": [],
   "source": [
    "def get_u_j(x, num_x, t, j):\n",
    "    '''\n",
    "    x: data value x', a constant after stacking.\n",
    "    t: time point t\n",
    "    j: the feature of u that will get returned.\n",
    "    '''  \n",
    "#   spatial-temporal stack index\n",
    "    ind = x*num_x+t\n",
    "    \n",
    "#   X is 2D, \n",
    "    return x[ind, j]\n",
    "    "
   ]
  },
  {
   "cell_type": "code",
   "execution_count": 7,
   "id": "fe289975",
   "metadata": {},
   "outputs": [],
   "source": [
    "def get_omega_bound(index, intervals):\n",
    "    ##Need to figure out how we are going to stack our intervals.\n",
    "    '''\n",
    "    Parameter\n",
    "    --------- \n",
    "    index : index of the subdomain to get bound of\n",
    "    intervals : boundary of each subdomain correspond to each dimension\n",
    "        (We could make it n x m x 2 or nm x 2) n is the dimension m is the number of points\n",
    "        \n",
    "    return\n",
    "    ------\n",
    "    2d (n x 2) arrays. First dimension is all the spatial dimensions, and second dimension are left and right bound of the subdomain\n",
    "    '''\n",
    "    \n",
    "    return intervals[index]"
   ]
  },
  {
   "cell_type": "code",
   "execution_count": 7,
   "id": "dce842e7",
   "metadata": {},
   "outputs": [],
   "source": [
    "def get_theta_nonloc(j, k, kprime, intervals):\n",
    "#     get how many time points are there\n",
    "    num_t = np.shape(spatiotemporal_grid)[-2]\n",
    "#     get how many spatial points are there\n",
    "    num_x = np.prod(np.shape(spatiotemporal_grid)[:-2])\n",
    "    \n",
    "    theta_nonloc_p = np.zeros(num_t*num_x)\n",
    "    \n",
    "    for i in np.arange(theta_nonloc_p.length):\n",
    "        this_t = i % num_t\n",
    "        this_x = int(i/num_t)\n",
    "        \n",
    "#       get x(all x, this_t)\n",
    "#       This currently filters the spatial temporal grid, as opposed to X\n",
    "#       We mat not need this though, as we can use num_t and num_x to figure out the stacking of X.\n",
    "#         n_dims  = len(np.shape(spatiotemporal_grid))\n",
    "#         s = [slice(None) for i in range(n_dims)]\n",
    "#         s[-2] = this_t\n",
    "#         grid_t = spatiotemporal_grid[tuple(s)]\n",
    "        \n",
    "        coefficient = indicator(this_x, get_omega_bound(k, intervals))\n",
    "        \n",
    "        integral = compute_integral(this_x, this_t, num_x, j, get_omega_bound(kprime, intervals))\n",
    "        \n",
    "        theta_nonloc_p[i] = coefficient * integral\n",
    "        \n",
    "    return theta_nonloc_p"
   ]
  },
  {
   "cell_type": "code",
   "execution_count": 2,
   "id": "809e2ac5",
   "metadata": {},
   "outputs": [],
   "source": [
    "def full_domain_linear_weights(self, x, sub_domain_intervals):\n",
    "        \"\"\"\n",
    "        One-dimensioal weights for integration against the 0th derivative\n",
    "        of the indicator test function 1 if inside bound and 0 else. This is derived\n",
    "        assuming the function to integrate is linear between grid points:\n",
    "        f(x)=f_i+(x-x_i)/(x_{i+1}-x_i)*(f_{i+1}-f_i)\n",
    "        so that f(x)*phi(x) are computed analytically, and the integral is\n",
    "        expressed as a dot product of weights against the f_i.\n",
    "        \"\"\"\n",
    "        phi = indicator(x, sub_domain_intervals)\n",
    "        return np.array([0.5 * (x[2:] - x[1:-1]) * (phi[2:] - phi[1:-1])])"
   ]
  },
  {
   "cell_type": "code",
   "execution_count": 5,
   "id": "7c578c7c",
   "metadata": {},
   "outputs": [],
   "source": [
    "def full_domian_left_weights(self, x1, x2, sub_domain_intervals):\n",
    "       \"\"\"\n",
    "        One-dimensioal weight for left-most point in integration against the 0th\n",
    "        derivative of the indicator test function 1 if inside bound and 0 else. This is derived\n",
    "        assuming the function to integrate is linear between grid points:\n",
    "        f(x)=f_i+(x-x_i)/(x_{i+1}-x_i)*(f_{i+1}-f_i)\n",
    "        so that f(x)*phi(x) are computed analytically, and the integral is\n",
    "        expressed as a dot product of weights against the f_i.\n",
    "        \"\"\"\n",
    "       phi_0 = indicator(x1, sub_domain_intervals)\n",
    "       phi_1 = indicator(x2, sub_domain_intervals)\n",
    "       return np.array([0.5 * (x2 - x1) * (phi_1 - phi_0)])"
   ]
  },
  {
   "cell_type": "code",
   "execution_count": null,
   "id": "fb6847c6",
   "metadata": {},
   "outputs": [],
   "source": [
    "def full_domian_right_weights(self, x1, x2, sub_domain_intervals):\n",
    "       \"\"\"\n",
    "        One-dimensioal weight for left-most point in integration against the 0th\n",
    "        derivative of the indicator test function 1 if inside bound and 0 else. This is derived\n",
    "        assuming the function to integrate is linear between grid points:\n",
    "        f(x)=f_i+(x-x_i)/(x_{i+1}-x_i)*(f_{i+1}-f_i)\n",
    "        so that f(x)*phi(x) are computed analytically, and the integral is\n",
    "        expressed as a dot product of weights against the f_i.\n",
    "        \"\"\"\n",
    "       phi_0 = indicator(x1, sub_domain_intervals)\n",
    "       phi_1 = indicator(x2, sub_domain_intervals)\n",
    "       return np.array([-0.5 * (x2 - x1) * (phi_1 - phi_0)])"
   ]
  }
 ],
 "metadata": {
  "kernelspec": {
   "display_name": "Python 3 (ipykernel)",
   "language": "python",
   "name": "python3"
  },
  "language_info": {
   "codemirror_mode": {
    "name": "ipython",
    "version": 3
   },
   "file_extension": ".py",
   "mimetype": "text/x-python",
   "name": "python",
   "nbconvert_exporter": "python",
   "pygments_lexer": "ipython3",
   "version": "3.8.12"
  },
  "vscode": {
   "interpreter": {
    "hash": "043433d6b18bdeb8544c06540320f4c494e406f840db1fa6d3d1188f7786a55f"
   }
  }
 },
 "nbformat": 4,
 "nbformat_minor": 5
}
