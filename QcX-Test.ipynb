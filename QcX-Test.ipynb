{
 "cells": [
  {
   "cell_type": "code",
   "execution_count": 1,
   "id": "021a46a1",
   "metadata": {},
   "outputs": [],
   "source": [
    "import numpy as np\n"
   ]
  },
  {
   "cell_type": "code",
   "execution_count": null,
   "id": "35351cb5",
   "metadata": {},
   "outputs": [],
   "source": [
    "x = np.random.rand(2, 3, 5, 7)"
   ]
  },
  {
   "cell_type": "code",
   "execution_count": null,
   "id": "e8853a3f",
   "metadata": {},
   "outputs": [],
   "source": [
    "x.shape[:-1]"
   ]
  },
  {
   "cell_type": "code",
   "execution_count": null,
   "id": "b1f60a26",
   "metadata": {},
   "outputs": [],
   "source": [
    "x = np.random.uniform(\n",
    "                0, 1, size=10\n",
    "            )"
   ]
  },
  {
   "cell_type": "code",
   "execution_count": null,
   "id": "db2eed8d",
   "metadata": {},
   "outputs": [],
   "source": [
    "x"
   ]
  },
  {
   "cell_type": "code",
   "execution_count": null,
   "id": "7de991d5",
   "metadata": {},
   "outputs": [],
   "source": [
    "s = [0] * (8 + 1)"
   ]
  },
  {
   "cell_type": "code",
   "execution_count": null,
   "id": "3038a214",
   "metadata": {},
   "outputs": [],
   "source": [
    "s"
   ]
  },
  {
   "cell_type": "code",
   "execution_count": 4,
   "id": "8e79a27a",
   "metadata": {},
   "outputs": [
    {
     "name": "stdout",
     "output_type": "stream",
     "text": [
      "Time:  0.08075059999999823\n"
     ]
    }
   ],
   "source": [
    "import timeit\n",
    "\n",
    "start = timeit.default_timer()\n",
    "\n",
    "np.linspace(1,10**7,10**7)\n",
    "\n",
    "stop = timeit.default_timer()\n",
    "\n",
    "print('Time: ', stop - start) \n"
   ]
  },
  {
   "cell_type": "code",
   "execution_count": 5,
   "id": "e003cfdf",
   "metadata": {},
   "outputs": [
    {
     "name": "stdout",
     "output_type": "stream",
     "text": [
      "Time:  1.1178299000000003\n"
     ]
    }
   ],
   "source": [
    "import timeit\n",
    "\n",
    "start = timeit.default_timer()\n",
    "x = np.zeros(10**7)\n",
    "for i in range(10**7):\n",
    "    x = i\n",
    "\n",
    "stop = timeit.default_timer()\n",
    "\n",
    "print('Time: ', stop - start) \n"
   ]
  },
  {
   "cell_type": "code",
   "execution_count": null,
   "id": "c36a5b67",
   "metadata": {},
   "outputs": [],
   "source": []
  }
 ],
 "metadata": {
  "kernelspec": {
   "display_name": "Python 3 (ipykernel)",
   "language": "python",
   "name": "python3"
  },
  "language_info": {
   "codemirror_mode": {
    "name": "ipython",
    "version": 3
   },
   "file_extension": ".py",
   "mimetype": "text/x-python",
   "name": "python",
   "nbconvert_exporter": "python",
   "pygments_lexer": "ipython3",
   "version": "3.9.7"
  }
 },
 "nbformat": 4,
 "nbformat_minor": 5
}
