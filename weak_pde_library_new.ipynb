{
 "cells": [
  {
   "cell_type": "code",
   "execution_count": 8,
   "id": "5a3606de",
   "metadata": {},
   "outputs": [],
   "source": [
    "import matplotlib.pyplot as plt\n",
    "import numpy as np\n",
    "from scipy.integrate import solve_ivp\n",
    "from sklearn.linear_model import Lasso\n",
    "from scipy.io import loadmat\n",
    "from sklearn.metrics import mean_squared_error\n",
    "from pysindy.utils.odes import lorenz\n",
    "from pynew import *\n",
    "\n",
    "# Ignore matplotlib deprecation warnings\n",
    "import warnings\n",
    "warnings.filterwarnings(\"ignore\", category=UserWarning)\n",
    "warnings.filterwarnings(\"ignore\", category=FutureWarning)\n",
    "\n",
    "# Seed the random number generators for reproducibility\n",
    "np.random.seed(100)\n",
    "\n",
    "# integration keywords for solve_ivp, typically needed for chaotic systems\n",
    "integrator_keywords = {}\n",
    "integrator_keywords['rtol'] = 1e-12\n",
    "integrator_keywords['method'] = 'LSODA'\n",
    "integrator_keywords['atol'] = 1e-12"
   ]
  },
  {
   "cell_type": "code",
   "execution_count": 9,
   "id": "a51e8991",
   "metadata": {},
   "outputs": [
    {
     "name": "stdout",
     "output_type": "stream",
     "text": [
      "(x0)' = -10.022 x0 + 10.017 x1\n",
      "(x1)' = 27.850 x0 + -0.949 x1 + -0.997 x0 x2\n",
      "(x2)' = -2.668 x2 + 1.000 x0 x1\n",
      "This is the right things\n",
      "(x0)' = -9.997 x0 + 9.994 x1\n",
      "(x1)' = 27.804 x0 + -0.870 x1 + 0.001 x0x0 + -0.994 x0x2 + -0.004 x1x2\n",
      "(x2)' = -2.670 x2 + 0.001 x1x1 + 0.999 x0x1\n"
     ]
    }
   ],
   "source": [
    "# Generate measurement data\n",
    "dt = 0.001\n",
    "t_train = np.arange(0, 10, dt)\n",
    "t_train_span = (t_train[0], t_train[-1])\n",
    "u0_train = [-8, 8, 27]\n",
    "u_train = solve_ivp(lorenz, t_train_span, u0_train, \n",
    "                    t_eval=t_train, **integrator_keywords).y.T\n",
    "import random as rand\n",
    "error_scale = 0.1\n",
    "noise = np.random.randn(10000, 3) * error_scale\n",
    "u_train = u_train + noise\n",
    "\n",
    "# Instantiate and fit the SINDy model with u_dot\n",
    "u_dot = FiniteDifference()._differentiate(u_train, t=dt)\n",
    "model = SINDy()\n",
    "model.fit(u_train, x_dot=u_dot, t=dt)\n",
    "model.print()\n",
    "\n",
    "# Define weak form ODE library\n",
    "# defaults to derivative_order = 0 if not specified,\n",
    "# and if spatial_grid is not specified, defaults to None,\n",
    "# which allows weak form ODEs.\n",
    "library_functions = [lambda x: x, lambda x: x * x, lambda x, y: x * y]\n",
    "library_function_names = [lambda x: x, lambda x: x + x, lambda x, y: x + y]\n",
    "ode_lib = WeakPDELibrary(\n",
    "    library_functions=library_functions,\n",
    "    function_names=library_function_names,\n",
    "    spatiotemporal_grid=t_train,\n",
    "    is_uniform=True,\n",
    "    K=100,\n",
    ")\n",
    "\n",
    "# Instantiate and fit the SINDy model with the integral of u_dot\n",
    "optimizer = SR3(\n",
    "    threshold=0.05, \n",
    "    thresholder=\"l1\", \n",
    "    max_iter=1000, \n",
    "    normalize_columns=True, \n",
    "    tol=1e-1\n",
    ")\n",
    "model = SINDy(feature_library=ode_lib, optimizer=optimizer)\n",
    "model.fit(u_train)\n",
    "model.print()"
   ]
  },
  {
   "cell_type": "code",
   "execution_count": null,
   "id": "bf97a1e0",
   "metadata": {},
   "outputs": [],
   "source": []
  }
 ],
 "metadata": {
  "kernelspec": {
   "display_name": "Python 3 (ipykernel)",
   "language": "python",
   "name": "python3"
  },
  "language_info": {
   "codemirror_mode": {
    "name": "ipython",
    "version": 3
   },
   "file_extension": ".py",
   "mimetype": "text/x-python",
   "name": "python",
   "nbconvert_exporter": "python",
   "pygments_lexer": "ipython3",
   "version": "3.9.12"
  }
 },
 "nbformat": 4,
 "nbformat_minor": 5
}
