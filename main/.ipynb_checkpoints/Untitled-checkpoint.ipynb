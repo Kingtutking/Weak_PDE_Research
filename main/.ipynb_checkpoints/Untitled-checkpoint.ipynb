{
 "cells": [
  {
   "cell_type": "code",
   "execution_count": 21,
   "id": "01b87175",
   "metadata": {},
   "outputs": [],
   "source": [
    "from scipy import integrate\n",
    "import numpy as np"
   ]
  },
  {
   "cell_type": "code",
   "execution_count": 2,
   "id": "06a33610",
   "metadata": {},
   "outputs": [],
   "source": [
    "def indicator(x, lb, rb):\n",
    "    '''\n",
    "    Parameters: \n",
    "    \n",
    "        x: 1 x n vector representing the point to check (Time dimension should be excluded)\n",
    "\n",
    "        lb: the left bound of the space where the indicator function is not 0\n",
    "\n",
    "        rb: the right bound of the space where the indicator function is not 0\n",
    "    \n",
    "    return: \n",
    "        return 1 if x is bounded by minimum below and maximum above, 0 otherwise,\n",
    "    \n",
    "    '''\n",
    "    if len(x) != len(lb) or len(x) != len(rb) or len(lb) != len(rb):\n",
    "        raise ValueError(\"Parameter dimensions do not agree.\")\n",
    "        \n",
    "    for i in np.arange(len(lb)):\n",
    "        if x[i] < lb[i] or x > rb[i]:\n",
    "            return 0\n",
    "    return 1"
   ]
  },
  {
   "cell_type": "code",
   "execution_count": 1,
   "id": "79832508",
   "metadata": {},
   "outputs": [],
   "source": [
    "def compute_integral(f, endpts, x, t):\n",
    "    '''\n",
    "    Parameters: \n",
    "        f: u_j(p)(x, t)\n",
    "        endpts: 2 x n array \n",
    "            the first column is the left endpoints of the subdomain's each of the n dimensions,\n",
    "            second column is right endpoint of each of the subdomain's each of the n dimensions\n",
    "    return:\n",
    "        nd integral integral\n",
    "    '''\n",
    "    return sp.integral.nquad(get_u_k, endpts, args=(x, t))"
   ]
  },
  {
   "cell_type": "code",
   "execution_count": null,
   "id": "e2e3c8d4",
   "metadata": {},
   "outputs": [],
   "source": [
    "def get_u_j(*args):\n",
    "    '''\n",
    "    x: data grid\n",
    "    xprime: spatial index of the point in the \n",
    "    '''\n",
    "    "
   ]
  },
  {
   "cell_type": "code",
   "execution_count": 5,
   "id": "600ca9bf",
   "metadata": {},
   "outputs": [
    {
     "data": {
      "text/plain": [
       "1"
      ]
     },
     "execution_count": 5,
     "metadata": {},
     "output_type": "execute_result"
    }
   ],
   "source": [
    "def get_omega_bound(index, domain_centers, domain_sizes):\n",
    "    \n",
    "#     domain_center is right\n",
    "    \n",
    "    call ur old bound lol\n",
    "    return lower and upper bound of the subregion, lol"
   ]
  },
  {
   "cell_type": "code",
   "execution_count": null,
   "id": "ef97e1bc",
   "metadata": {},
   "outputs": [],
   "source": [
    "def get_theta_nonloc(p, x, j, k, kprime):\n",
    "#     get how many time points are there\n",
    "    num_t = len(spatiotemporal_grid[-1])\n",
    "#     get how many spatial points are there\n",
    "    num_x = np.shape(x)[0]\n",
    "    \n",
    "    theta_nonloc_p = np.zeros(num_t*num_x)\n",
    "    \n",
    "    for i in np.arange(theta_nonloc_p.length):\n",
    "        this_t = i % num_t\n",
    "        this_x = int(i/num_t)\n",
    "        theta_nonloc_p = indicator(this_x, )"
   ]
  }
 ],
 "metadata": {
  "kernelspec": {
   "display_name": "Python 3 (ipykernel)",
   "language": "python",
   "name": "python3"
  },
  "language_info": {
   "codemirror_mode": {
    "name": "ipython",
    "version": 3
   },
   "file_extension": ".py",
   "mimetype": "text/x-python",
   "name": "python",
   "nbconvert_exporter": "python",
   "pygments_lexer": "ipython3",
   "version": "3.9.12"
  }
 },
 "nbformat": 4,
 "nbformat_minor": 5
}
