{
 "cells": [
  {
   "cell_type": "code",
   "execution_count": 2,
   "id": "021a46a1",
   "metadata": {},
   "outputs": [],
   "source": [
    "import numpy as np\n"
   ]
  },
  {
   "cell_type": "code",
   "execution_count": 9,
   "id": "35351cb5",
   "metadata": {},
   "outputs": [],
   "source": [
    "x = np.random.rand(2, 3, 5, 7)"
   ]
  },
  {
   "cell_type": "code",
   "execution_count": 10,
   "id": "e8853a3f",
   "metadata": {},
   "outputs": [
    {
     "data": {
      "text/plain": [
       "(2, 3, 5)"
      ]
     },
     "execution_count": 10,
     "metadata": {},
     "output_type": "execute_result"
    }
   ],
   "source": [
    "x.shape[:-1]"
   ]
  },
  {
   "cell_type": "code",
   "execution_count": 13,
   "id": "b1f60a26",
   "metadata": {},
   "outputs": [],
   "source": [
    "x = np.random.uniform(\n",
    "                0, 1, size=10\n",
    "            )"
   ]
  },
  {
   "cell_type": "code",
   "execution_count": 14,
   "id": "db2eed8d",
   "metadata": {},
   "outputs": [
    {
     "data": {
      "text/plain": [
       "array([0.77230131, 0.71429367, 0.15065395, 0.81466501, 0.68133479,\n",
       "       0.74380817, 0.03368895, 0.41798254, 0.9846698 , 0.61252299])"
      ]
     },
     "execution_count": 14,
     "metadata": {},
     "output_type": "execute_result"
    }
   ],
   "source": [
    "x"
   ]
  },
  {
   "cell_type": "code",
   "execution_count": 17,
   "id": "7de991d5",
   "metadata": {},
   "outputs": [],
   "source": [
    "s = [0] * (8 + 1)"
   ]
  },
  {
   "cell_type": "code",
   "execution_count": 18,
   "id": "3038a214",
   "metadata": {},
   "outputs": [
    {
     "data": {
      "text/plain": [
       "[0, 0, 0, 0, 0, 0, 0, 0, 0]"
      ]
     },
     "execution_count": 18,
     "metadata": {},
     "output_type": "execute_result"
    }
   ],
   "source": [
    "s"
   ]
  },
  {
   "cell_type": "code",
   "execution_count": 4,
   "id": "8e79a27a",
   "metadata": {},
   "outputs": [
    {
     "data": {
      "text/plain": [
       "array([ 1.  ,  3.25,  5.5 ,  7.75, 10.  ])"
      ]
     },
     "execution_count": 4,
     "metadata": {},
     "output_type": "execute_result"
    }
   ],
   "source": [
    "np.linspace(1,10,5)"
   ]
  },
  {
   "cell_type": "code",
   "execution_count": null,
   "id": "6ea14494",
   "metadata": {},
   "outputs": [],
   "source": []
  }
 ],
 "metadata": {
  "kernelspec": {
   "display_name": "Python 3 (ipykernel)",
   "language": "python",
   "name": "python3"
  },
  "language_info": {
   "codemirror_mode": {
    "name": "ipython",
    "version": 3
   },
   "file_extension": ".py",
   "mimetype": "text/x-python",
   "name": "python",
   "nbconvert_exporter": "python",
   "pygments_lexer": "ipython3",
   "version": "3.9.7"
  }
 },
 "nbformat": 4,
 "nbformat_minor": 5
}
